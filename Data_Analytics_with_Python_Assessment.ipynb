{
 "nbformat": 4,
 "nbformat_minor": 0,
 "metadata": {
  "colab": {
   "provenance": [],
   "collapsed_sections": [
    "jXkjbG86QL5G",
    "3ZF33AOoRP9Z",
    "M8GDnps-RR9q",
    "knNIuhCoSFNx",
    "osg640SM-ySa",
    "FpJ9_gGH_g9Z",
    "kydBDNX0AWbd",
    "z9mN8HDMCreb",
    "GnePX9mfC-6I",
    "uWZZN2JGDPoQ",
    "u6rhIsN6DzXO",
    "atghBU1UEFja",
    "SRu7LPAYEOjw",
    "ZT4ReqO1EWyJ"
   ]
  },
  "kernelspec": {
   "name": "python3",
   "display_name": "Python 3"
  },
  "language_info": {
   "name": "python"
  }
 },
 "cells": [
  {
   "cell_type": "markdown",
   "source": [
    "# Introduction\n",
    "\n",
    "This assessment aims to evaluate your understanding and application of the concepts covered in the Data Analytics course. You will be tasked with analyzing a dataset related to remote work and mental health, utilizing various data manipulation, statistical analysis, and visualization techniques learned throughout the course. This exercise will help reinforce your skills in data handling, exploratory analysis, and drawing meaningful insights from data.\n",
    "\n",
    "### Submission Details:\n",
    "\n",
    "The deadline for submission is 16 November at 11:59 PM. Specific submission details will be shared with you shortly.\n",
    "\n",
    "### Passing Criteria:\n",
    "\n",
    "To successfully pass this assessment, you must achieve a score of 80% or higher.\n",
    "We encourage you to engage with the material and demonstrate your analytical skills. Good luck!\n",
    "\n",
    "\n",
    "---\n",
    "\n"
   ],
   "metadata": {
    "id": "ZofcnJAIJHaX"
   }
  },
  {
   "cell_type": "markdown",
   "source": [
    "# Section 1 - Beginner (25%)\n"
   ],
   "metadata": {
    "id": "t6EemGQaDLyU"
   }
  },
  {
   "cell_type": "markdown",
   "source": [
    "## Shopping Cart System with Discounts\n",
    "\n",
    "Write a Python program to simulate a shopping cart system for an online store. The program will calculate the total cost of items, apply discounts, and check if the total exceeds a specified budget."
   ],
   "metadata": {
    "id": "IEQXM5QADPRl"
   }
  },
  {
   "cell_type": "markdown",
   "source": [
    "1.\tVariables and Lists:\n",
    "  - Define a `budget` variable with an initial value of 200.\n",
    "  \n",
    "  - Create two empty lists called `item_names_list` and `item_prices_list` to store the name and price of each item separately."
   ],
   "metadata": {
    "id": "dKkPEPpCDyda"
   }
  },
  {
   "cell_type": "code",
   "execution_count": null,
   "metadata": {
    "id": "4lXTHMaCC8VO"
   },
   "outputs": [],
   "source": [
    "# Write your code here\n",
    "\n",
    "budget = 200\n",
    "item_names_list=[]\n",
    "item_prices_list=[]\n"
   ]
  },
  {
   "cell_type": "markdown",
   "source": [
    "2. Functions:\n",
    "  - Write a function `add_item_to_cart(item_name, item_price)` that takes the item’s name and price as arguments, appends the name to item_names and the price to item_prices, and returns both updated lists.\n",
    "  \n",
    "  - Write a function `calculate_total(item_prices)` that calculates and returns the total cost of all items in item_prices.\n",
    "\n",
    "    Conditions:\n",
    "    - If the total cost exceeds the budget after adding an item, print \"Budget exceeded!\" and stop adding more items.\n",
    "    - If the total cost is within budget and exceeds $100, apply a 10% discount on the total and print the discounted total.\n",
    "  \n",
    "\n",
    "\n",
    "\n"
   ],
   "metadata": {
    "id": "wRAwexQhD0cq"
   }
  },
  {
   "cell_type": "code",
   "source": [
    "# Write your code here\n",
    "\n",
    "def add_item_to_cart(item_name, item_price):\n",
    "  item_names_list.append(item_name)\n",
    "  item_prices_list.append(item_price)\n",
    "  return item_names_list, item_prices_list\n",
    "\n",
    "\n",
    "\n",
    "def calculate_total(item_prices):\n",
    "  total = sum(item_prices)\n",
    "\n",
    "  if total > budget:\n",
    "    print(\"Budget exceeded!\")\n",
    "    return total, 0\n",
    "  \n",
    "  \n",
    "  discount = 0\n",
    "  if total > 100 and total < 200:\n",
    "    discount = total * 0.1\n",
    "    total *= 0.9\n",
    "  \n",
    "  return total, discount\n",
    "  \n",
    "  "
   ],
   "metadata": {
    "id": "g_UiAVHSD3UK"
   },
   "execution_count": null,
   "outputs": []
  },
  {
   "cell_type": "markdown",
   "source": [
    "3.\tLoop and Input:\n",
    "  - Start the input only once the user says 'start'\n",
    "  - Use a loop to allow the user to add items to the cart by entering an item name and price. The loop should stop when the user types 'done'.\n",
    "  - For each item, add it to item_names and item_prices using add_item_to_cart, then update the total cost using calculate_total.\n",
    "\n",
    "Output:\n",
    "  - After the loop ends, display the final cart with each item and its price, the initial total, any applicable discount, and the final total.\n",
    "\n",
    "\n"
   ],
   "metadata": {
    "id": "B22U5SdVEKeH"
   }
  },
  {
   "cell_type": "code",
   "source": [
    "# Write your c# Write your code here\n",
    "\n",
    "enter = input(\"Enter 'start' to start:\")\n",
    "\n",
    "initial_total = 0\n",
    "while enter == \"start\":\n",
    "  item_name = input(\"Enter item name:\")\n",
    "  item_price = float(input(\"Enter item price:\"))\n",
    "  \n",
    "  add_item_to_cart(item_name, item_price)\n",
    "  initial_total = sum(item_prices_list)\n",
    "  final_total, discount = calculate_total(item_prices_list)\n",
    "  \n",
    "  if final_total > budget:\n",
    "    print(\"Budget exceeded!\")\n",
    "    break\n",
    "  \n",
    "  enter = input(\"Enter 'start' to continue, 'done' to stop:\")\n",
    "\n",
    "\n",
    "for i in range(len(item_names_list)):\n",
    "  print(f\"{item_names_list[i]}: {item_prices_list[i]}\")\n",
    "\n",
    "\n",
    "print(initial_total)\n",
    "print(discount)\n",
    "print(final_total)"
   ],
   "metadata": {
    "id": "CJtjsE8YD6Mv"
   },
   "execution_count": null,
   "outputs": []
  },
  {
   "cell_type": "code",
   "source": [
    "# Write your code here"
   ],
   "metadata": {
    "id": "M9IlBMeDEOxd"
   },
   "execution_count": null,
   "outputs": []
  },
  {
   "cell_type": "markdown",
   "source": [
    "# Section 2 - Intermidiate (55%) - Remote Work and Mental Health Analysis\n",
    "\n",
    "Dataset source: Kaggle (https://www.kaggle.com/datasets/waqi786/remote-work-and-mental-health)\n",
    "\n",
    "\n"
   ],
   "metadata": {
    "id": "jXkjbG86QL5G"
   }
  },
  {
   "cell_type": "markdown",
   "source": [
    "## Objective:\n",
    "- In the following sections, you will explore the \"Remote Work and Mental Health\" dataset using Python and different data science libraries such as Pandas, NumPy and Matplotlib.\n",
    "- Follow the instructions below to complete each task. Please provide code for each question and any observations as comments when necessary.\n"
   ],
   "metadata": {
    "id": "3ZF33AOoRP9Z"
   }
  },
  {
   "cell_type": "code",
   "source": [
    "# Import necessary modules and libraries\n",
    "\n",
    "import pandas as pd\n",
    "import matplotlib.pyplot as plt"
   ],
   "metadata": {
    "id": "zX8_bEfKSGcB"
   },
   "execution_count": null,
   "outputs": []
  },
  {
   "cell_type": "markdown",
   "source": [
    "## 1. Load Dataset (2 marks)\n",
    "- Instructions: Load the dataset using Pandas and display few rows.\n",
    "- Question: Describe the overall structure (rows, columns, data types) as a comment at the end of your code.\n",
    "\n"
   ],
   "metadata": {
    "id": "M8GDnps-RR9q"
   }
  },
  {
   "cell_type": "code",
   "source": [
    "# Write code here\n",
    "df = pd.read_csv(\"dataset.csv\")\n",
    "\n",
    "print(\"First few rows of Iris dataframe:\\n\")\n",
    "head_rows = df.head()\n",
    "\n",
    "print(head_rows)\n",
    "\n",
    "print(df.info())\n",
    "\n",
    "#The overall structure: 20 columns, 5000 rows, datastructure: int,object\n",
    "\n"
   ],
   "metadata": {
    "id": "iN_Ne4xKSE_g"
   },
   "execution_count": null,
   "outputs": []
  },
  {
   "cell_type": "markdown",
   "source": [
    "## 2. Display 'n' Rows (3 marks)\n",
    "- Instructions: Display the first 13 rows of the dataset."
   ],
   "metadata": {
    "id": "knNIuhCoSFNx"
   }
  },
  {
   "cell_type": "code",
   "source": [
    "# Write code here\n",
    "\n",
    "print(df.head(13))"
   ],
   "metadata": {
    "id": "aojeUCP3-DlN"
   },
   "execution_count": null,
   "outputs": []
  },
  {
   "cell_type": "markdown",
   "source": [
    "- Instructions: Display the last 7 rows of the dataset"
   ],
   "metadata": {
    "id": "iNJ7GvJt-EJk"
   }
  },
  {
   "cell_type": "code",
   "source": [
    "# Write code here\n",
    "\n",
    "print(df.tail(7))"
   ],
   "metadata": {
    "id": "bvxs1GHK-Iv4"
   },
   "execution_count": null,
   "outputs": []
  },
  {
   "cell_type": "markdown",
   "source": [
    "## 3. Find the Number of Null Values in the Dataset (2 mark)"
   ],
   "metadata": {
    "id": "osg640SM-ySa"
   }
  },
  {
   "cell_type": "code",
   "source": [
    "# Write code here\n",
    "\n",
    "print(df.isna().sum)"
   ],
   "metadata": {
    "id": "VL7WVh2x_e2u"
   },
   "execution_count": null,
   "outputs": []
  },
  {
   "cell_type": "markdown",
   "source": [
    "## 4. Statistical Summary for Numeric Columns (10 marks)\n",
    "Instructions: Use individual commands to find the statistical summary."
   ],
   "metadata": {
    "id": "FpJ9_gGH_g9Z"
   }
  },
  {
   "cell_type": "markdown",
   "source": [
    "- Count"
   ],
   "metadata": {
    "id": "8R-SXWwY_msH"
   }
  },
  {
   "cell_type": "code",
   "source": [
    "# Write code here\n",
    "total_non_null = df.count().sum()\n",
    "print(total_non_null)"
   ],
   "metadata": {
    "id": "rdhV-VNf_gcm"
   },
   "execution_count": null,
   "outputs": []
  },
  {
   "cell_type": "markdown",
   "source": [
    "- Mean"
   ],
   "metadata": {
    "id": "3sHkuqIM_wLh"
   }
  },
  {
   "cell_type": "code",
   "source": [
    "# Write code here\n",
    "column_means = df[[\"Age\", \"Years_of_Experience\", \"Hours_Worked_Per_Week\", \n",
    "                   \"Number_of_Virtual_Meetings\", \"Work_Life_Balance_Rating\", \n",
    "                   \"Social_Isolation_Rating\", \"Company_Support_for_Remote_Work\"]].mean()\n",
    "print(column_means)"
   ],
   "metadata": {
    "id": "MyCg6EO4_v1V"
   },
   "execution_count": null,
   "outputs": []
  },
  {
   "cell_type": "markdown",
   "source": [
    "- Standard Deviation"
   ],
   "metadata": {
    "id": "S3KSqJm2_vob"
   }
  },
  {
   "cell_type": "code",
   "source": [
    "# Write code here\n",
    "\n",
    "column_std = df[[\"Age\", \"Years_of_Experience\", \"Hours_Worked_Per_Week\", \n",
    "                   \"Number_of_Virtual_Meetings\", \"Work_Life_Balance_Rating\", \n",
    "                   \"Social_Isolation_Rating\", \"Company_Support_for_Remote_Work\"]].std()\n",
    "print(column_std)\n"
   ],
   "metadata": {
    "id": "sKUiXGdy_y_7"
   },
   "execution_count": null,
   "outputs": []
  },
  {
   "cell_type": "markdown",
   "source": [
    "- Quartiles"
   ],
   "metadata": {
    "id": "NvmOKMtoABPG"
   }
  },
  {
   "cell_type": "code",
   "source": [
    "# Write code here\n",
    "specific_q1 = df[[\"Age\", \"Years_of_Experience\", \"Hours_Worked_Per_Week\", \n",
    "                   \"Number_of_Virtual_Meetings\", \"Work_Life_Balance_Rating\", \n",
    "                   \"Social_Isolation_Rating\", \"Company_Support_for_Remote_Work\"]].quantile(0.25)\n",
    "specific_q2 = df[[\"Age\", \"Years_of_Experience\", \"Hours_Worked_Per_Week\", \n",
    "                   \"Number_of_Virtual_Meetings\", \"Work_Life_Balance_Rating\", \n",
    "                   \"Social_Isolation_Rating\", \"Company_Support_for_Remote_Work\"]].quantile(0.50)\n",
    "specific_q3 = df[[\"Age\", \"Years_of_Experience\", \"Hours_Worked_Per_Week\", \n",
    "                   \"Number_of_Virtual_Meetings\", \"Work_Life_Balance_Rating\", \n",
    "                   \"Social_Isolation_Rating\", \"Company_Support_for_Remote_Work\"]].quantile(0.75)\n",
    "\n",
    "print(specific_q1)\n",
    "print(specific_q2)\n",
    "print(specific_q3)"
   ],
   "metadata": {
    "id": "TVThkvwx_0zt"
   },
   "execution_count": null,
   "outputs": []
  },
  {
   "cell_type": "markdown",
   "source": [
    "## 5. Calculate Extrema (2 marks)"
   ],
   "metadata": {
    "id": "kydBDNX0AWbd"
   }
  },
  {
   "cell_type": "code",
   "source": [
    "# Write code here\n",
    "\n",
    "specific_min = df[[\"Age\", \"Years_of_Experience\", \"Hours_Worked_Per_Week\", \n",
    "                   \"Number_of_Virtual_Meetings\", \"Work_Life_Balance_Rating\", \n",
    "                   \"Social_Isolation_Rating\", \"Company_Support_for_Remote_Work\"]].min()\n",
    "specific_max = df[[\"Age\", \"Years_of_Experience\", \"Hours_Worked_Per_Week\", \n",
    "                   \"Number_of_Virtual_Meetings\", \"Work_Life_Balance_Rating\", \n",
    "                   \"Social_Isolation_Rating\", \"Company_Support_for_Remote_Work\"]].max()\n",
    "\n",
    "print(specific_max)\n",
    "print(specific_min)\n"
   ],
   "metadata": {
    "id": "u6cVQN3l_0ut"
   },
   "execution_count": null,
   "outputs": []
  },
  {
   "cell_type": "markdown",
   "source": [
    "## 6. Find Unique Values in a Categorical Column (3 marks)\n",
    "\n",
    "- Instructions: Identify the unique values in the `job_role` column (2 marks)\n",
    "- Question: How many unique roles are represented in the dataset? (1 mark)"
   ],
   "metadata": {
    "id": "z9mN8HDMCreb"
   }
  },
  {
   "cell_type": "code",
   "source": [
    "# Write code here\n",
    "\n",
    "unique_roles = df[\"Job_Role\"].unique()\n",
    "print(unique_roles)\n",
    "\n",
    "num_unique_roles = df[\"Job_Role\"].nunique()\n",
    "print(num_unique_roles)\n",
    "\n",
    "# 7 unique roles are represented in the dataset"
   ],
   "metadata": {
    "id": "WO3P27X-_0pl"
   },
   "execution_count": null,
   "outputs": []
  },
  {
   "cell_type": "markdown",
   "source": [
    "## 7. Group Data and Calculate Mean (4 marks)\n",
    "- Instructions: Group the dataset by `job_role` and calculate the mean of the `Work_Life_Balance_Rating` for each role.\n",
    "- Question: Which job role has the highest average mental health index?"
   ],
   "metadata": {
    "id": "GnePX9mfC-6I"
   }
  },
  {
   "cell_type": "code",
   "source": [
    "# Write code here\n",
    "grouped_data = df.groupby('Job_Role')['Work_Life_Balance_Rating'].mean()\n",
    "\n",
    "print(grouped_data)\n",
    "\n",
    "# Sales has the highest average mental health index\n"
   ],
   "metadata": {
    "id": "FDp0ZL9R_0j1"
   },
   "execution_count": null,
   "outputs": []
  },
  {
   "cell_type": "markdown",
   "source": [
    "## 8. Filter Data Based on Condition (4 marks)\n",
    "- Instructions: Filter the dataset to show only rows where `work_hours_per_week` is greater than 40.\n",
    "- Question: How many employees are working overtime?"
   ],
   "metadata": {
    "id": "uWZZN2JGDPoQ"
   }
  },
  {
   "cell_type": "code",
   "source": [
    "# Write code here\n",
    "overtime_employees = df[df[\"Hours_Worked_Per_Week\"] > 40]\n",
    "print(overtime_employees)\n",
    "\n",
    "print(len(overtime_employees))\n",
    "\n",
    "# 2384 employees are working overtime"
   ],
   "metadata": {
    "id": "hq77PsstDPWJ"
   },
   "execution_count": null,
   "outputs": []
  },
  {
   "cell_type": "markdown",
   "source": [
    "## 9 . Histogram of Work Hours per Week (5 marks)\n",
    "- Instructions: Create a histogram of `Hours_Worked_Per_Week` (4 marks).\n",
    "- Question: Describe the distribution of work hours. Are most employees working around a certain number of hours per week? (1 mark)"
   ],
   "metadata": {
    "id": "u6rhIsN6DzXO"
   }
  },
  {
   "cell_type": "code",
   "source": [
    "# Write code here\n",
    "\n",
    "plt.figure(figsize=(10, 6))\n",
    "\n",
    "plt.hist(df[\"Hours_Worked_Per_Week\"], bins=10, color='skyblue',edgecolor='black')\n",
    "\n",
    "plt.xlabel(\"Hours_Worked_Per_Week\")\n",
    "plt.ylabel(\"Employee number\")\n",
    "plt.title(\"Distribution of Weekly Work Hours\")\n",
    "plt.show()\n",
    "\n",
    "#Most employees work around 20-60 hours per week."
   ],
   "metadata": {
    "id": "oxPN35Ui_0em"
   },
   "execution_count": null,
   "outputs": []
  },
  {
   "cell_type": "markdown",
   "source": [
    "## 10. Scatter Plot of Work Hours vs. Mental Health Index (4 marks)\n",
    "- Instructions: Create a scatter plot with `Hours_Worked_Per_Week` on the x-axis and `Years_of_Experience` on the y-axis."
   ],
   "metadata": {
    "id": "atghBU1UEFja"
   }
  },
  {
   "cell_type": "code",
   "source": [
    "\n",
    "plt.figure(figsize=(15, 6))\n",
    "plt.scatter(df['Hours_Worked_Per_Week'], df['Years_of_Experience'], alpha=0.6, color='skyblue', edgecolors='black')\n",
    "plt.title('Scatter Plot of Work Hours vs. Years of Experience')\n",
    "plt.xlabel('Hours Worked Per Week')\n",
    "plt.ylabel('Years of Experience')\n",
    "plt.show()\n",
    "\n"
   ],
   "metadata": {
    "id": "0vYnYIhP_0ZV"
   },
   "execution_count": null,
   "outputs": []
  },
  {
   "cell_type": "markdown",
   "source": [
    "## 11. Bar Chart of Average Mental Health Index by Job Role (5 marks)\n",
    "- Instructions: Create a bar chart showing the average `Work_Life_Balance_Rating` for each `Job_Role` (4 marks).\n",
    "- Question: Which job roles have the highest and lowest average mental health index? (1 mark)"
   ],
   "metadata": {
    "id": "SRu7LPAYEOjw"
   }
  },
  {
   "cell_type": "code",
   "source": [
    "# Write code here\n",
    "average_balance_by_role = df.groupby('Job_Role')['Work_Life_Balance_Rating'].mean()\n",
    "\n",
    "\n",
    "average_balance_by_role.plot(kind='bar', color='skyblue', edgecolor='black')\n",
    "plt.title('Average Work Life Balance Rating by Job Role')\n",
    "plt.xlabel('Job Role')\n",
    "plt.ylabel('Average Work Life Balance Rating')\n",
    "plt.xticks(rotation=45)\n",
    "plt.show()\n",
    "\n",
    "#highest:sales  lowest:HR"
   ],
   "metadata": {
    "id": "hshPHrEJ_0TL"
   },
   "execution_count": null,
   "outputs": []
  },
  {
   "cell_type": "markdown",
   "source": [
    "## 12. Pie Chart of Workload Level Distribution (5 marks)\n",
    "- Instructions: Use a pie chart to show the proportion of `Access_to_Mental_Health_Resources` (Yes and no) in the dataset (4 marks).\n",
    "- Question: What percentage of employees have access to mental health resources? (1 mark)"
   ],
   "metadata": {
    "id": "ZT4ReqO1EWyJ"
   }
  },
  {
   "cell_type": "code",
   "source": [
    "# Write code here\n",
    "\n",
    "access_counts = df['Access_to_Mental_Health_Resources'].value_counts()\n",
    "\n",
    "# 绘制饼图\n",
    "plt.figure(figsize=(7, 7))\n",
    "plt.pie(access_counts, labels=access_counts.index, autopct='%1.1f%%', colors=['skyblue', 'lightcoral'], startangle=90, wedgeprops={'edgecolor': 'black'})\n",
    "plt.title('Proportion of Employees with Access to Mental Health Resources')\n",
    "plt.show()\n",
    "\n",
    "#51.1% of employees have access to mental health resources"
   ],
   "metadata": {
    "id": "loB1n-fe_0Lj"
   },
   "execution_count": null,
   "outputs": []
  },
  {
   "cell_type": "markdown",
   "source": [
    "## 13. Scatter Plot of Years of Experience vs. Mental Health Index (6 marks)\n",
    "- Instructions: Create a scatter plot with `age` on the x-axis and `Social_Isolation_Rating` on the y-axis (4 marks).\n",
    "- Question: Do you observe any trends or relationships between age and social isolation? Is there a noticeable impact of age on isoloation? (2 marks)"
   ],
   "metadata": {
    "id": "huTl0I35Eeta"
   }
  },
  {
   "cell_type": "code",
   "source": [
    "# Write code here\n",
    "\n",
    "plt.figure(figsize=(8, 6))\n",
    "plt.scatter(df['Age'], df['Social_Isolation_Rating'], alpha=0.6, color='skyblue', edgecolors='black')\n",
    "plt.title('Scatter Plot of Age vs Social Isolation Rating')\n",
    "plt.xlabel('Age')\n",
    "plt.ylabel('Social Isolation Rating')\n",
    "plt.show()\n",
    "\n",
    "#"
   ],
   "metadata": {
    "id": "_XG_OCnC_0Do"
   },
   "execution_count": null,
   "outputs": []
  },
  {
   "cell_type": "markdown",
   "source": [
    "# Section 3 - Long Answer/Advanced (20%)\n",
    "\n"
   ],
   "metadata": {
    "id": "gegyzqphE2_G"
   }
  },
  {
   "cell_type": "markdown",
   "source": [
    "## Job Role and Workload Level Impact on Mental Health\n",
    "\n",
    "Instructions: Investigate the influence of job roles and workload level on the mental health index.\n",
    "- Create a new column `workload_level` that labels each entry as \"High\" if the `Hours_Worked_Per_Week` is above its mean, otherwise \"Low.\" (5 marks)\n",
    "- Group the dataset by `Industry` and calculate the average `Hours_Worked_Per_Week` for each combination. (5 marks)\n",
    "- Use a bar chart to display the average `Stress_Level` for each job role, with separate bars for high and low stress levels. (5 marks)\n",
    "- Analyze the results: Which job roles and workload levels appear to have the greatest impact on mental health? (5 marks)\n",
    "\n",
    "\n",
    "\n"
   ],
   "metadata": {
    "id": "pK8L8R23FALn"
   }
  },
  {
   "cell_type": "code",
   "source": [
    "# Write code here\n",
    "\n",
    "\n",
    "\n",
    "\n",
    "mean_hours = df['Hours_Worked_Per_Week'].mean()\n",
    "\n",
    "df['workload_level'] = df['Hours_Worked_Per_Week'].apply(lambda x: 'High' if x > mean_hours else 'Low')\n",
    "\n",
    "\n",
    "\n",
    "\n",
    "industry_workload = df.groupby('Industry')['Hours_Worked_Per_Week'].mean()\n",
    "\n",
    "print(\"Average Hours Worked Per Week by Industry:\")\n",
    "print(industry_workload)\n",
    "\n",
    "\n",
    "stress_map = {'Low': 1, 'Medium': 2, 'High': 3}\n",
    "df['Stress_Level'] = df['Stress_Level'].map(stress_map)\n",
    "\n",
    "role_stress_level = df.groupby(['Job_Role', 'workload_level'])['Stress_Level'].mean().unstack()\n",
    "\n",
    "role_stress_level.plot(kind='bar', figsize=(10, 6), color=['skyblue', 'salmon'], edgecolor='black')\n",
    "plt.title('Average Stress Level by Job Role and Workload Level')\n",
    "plt.xlabel('Job Role')\n",
    "plt.ylabel('Average Stress Level')\n",
    "plt.xticks(rotation=45)\n",
    "plt.legend(title='Workload Level', labels=['Low', 'High'])\n",
    "plt.show()\n",
    "\n",
    "\n",
    "\n",
    "#The role data scientist with low workload has a big impact on mental health, which may be related to the complexity of this role. \n",
    "\n",
    "#The role with long working hour tend to have more pressure level, like project manager and marketing. \n",
    "\n",
    "#In a nutshell, data scientist and project manager have the greatest impact on mental health. \n"
   ],
   "metadata": {
    "id": "UeHUHXrK_z5d"
   },
   "execution_count": null,
   "outputs": []
  }
 ]
}
